{
 "cells": [
  {
   "cell_type": "code",
   "execution_count": 1,
   "id": "0df05ef3-a6ee-41aa-bde2-0c70d402961e",
   "metadata": {},
   "outputs": [],
   "source": [
    "import os\n",
    "import pandas as pd\n",
    "from sklearn.model_selection import train_test_split\n",
    "from sklearn.preprocessing import StandardScaler\n",
    "from sklearn.linear_model import LogisticRegression\n",
    "from sklearn.metrics import classification_report\n",
    "import joblib\n",
    "import ast\n"
   ]
  },
  {
   "cell_type": "code",
   "execution_count": 2,
   "id": "3f97663e-636b-4757-9a8b-4ae87c799271",
   "metadata": {},
   "outputs": [],
   "source": [
    "# Load the feature dataset\n",
    "data_path = r\"C:\\Users\\User\\Desktop\\project\\handcrafted_features\\output.csv\"\n",
    "if not os.path.exists(data_path):\n",
    "    raise FileNotFoundError(f\"Feature dataset not found at {data_path}\")\n",
    "df = pd.read_csv(data_path)\n"
   ]
  },
  {
   "cell_type": "code",
   "execution_count": 3,
   "id": "23b39f08-178c-4e7e-bef8-57a06d85ebc7",
   "metadata": {},
   "outputs": [
    {
     "name": "stdout",
     "output_type": "stream",
     "text": [
      "Class                object\n",
      "Filename             object\n",
      "Contrast            float64\n",
      "Dissimilarity       float64\n",
      "Homogeneity         float64\n",
      "                     ...   \n",
      "Gabor_Features_4    float64\n",
      "Gabor_Features_5    float64\n",
      "Gabor_Features_6    float64\n",
      "Gabor_Features_7    float64\n",
      "Gabor_Features_8    float64\n",
      "Length: 840, dtype: object\n"
     ]
    }
   ],
   "source": [
    "import pandas as pd\n",
    "import ast\n",
    "\n",
    "def safe_literal_eval(val):\n",
    "    try:\n",
    "        return ast.literal_eval(val)\n",
    "    except (ValueError, SyntaxError):\n",
    "        return None  # or any other appropriate default value or error handling\n",
    "\n",
    "def process_list_column(df, col_name):\n",
    "    # Convert string representation of lists to actual lists\n",
    "    df[col_name] = df[col_name].apply(safe_literal_eval)\n",
    "    \n",
    "    # Flatten the lists in the feature column\n",
    "    filtered_series = df[col_name].apply(lambda x: x if isinstance(x, list) and len(x) > 0 else [0])\n",
    "    \n",
    "    # Expand the lists into separate columns\n",
    "    expanded_cols = pd.DataFrame(filtered_series.tolist(), index=filtered_series.index,\n",
    "                                  columns=[f\"{col_name}_{i+1}\" for i in range(len(filtered_series.iloc[0]))])\n",
    "    \n",
    "    # Concatenate the expanded columns to the original DataFrame\n",
    "    df = pd.concat([df, expanded_cols], axis=1)\n",
    "    \n",
    "    # Drop the original column\n",
    "    df.drop(col_name, axis=1, inplace=True)\n",
    "    \n",
    "    return df\n",
    "\n",
    "# Example usage\n",
    "cols_to_process = ['Hue_Histogram', 'Saturation_Histogram', 'Value_Histogram','Moments_R', 'Moments_G', 'Moments_B', \n",
    "                   'LBP_Features', 'Zernike_Moments', 'Hu_Moments','Gabor_Features']\n",
    "\n",
    "\n",
    "\n",
    "for col in cols_to_process:\n",
    "    df = process_list_column(df, col)\n",
    "\n",
    "print(df.dtypes)\n"
   ]
  },
  {
   "cell_type": "code",
   "execution_count": 4,
   "id": "eac2a044-a0ae-4058-b4fb-9cb132646c5f",
   "metadata": {},
   "outputs": [
    {
     "name": "stdout",
     "output_type": "stream",
     "text": [
      "<bound method NDFrame.head of                     Class                      Filename    Contrast  \\\n",
      "0      Alstonia scholaris  adjusted_image_0003_0001.JPG  109.993934   \n",
      "1      Alstonia scholaris  adjusted_image_0003_0002.JPG  163.963365   \n",
      "2      Alstonia scholaris  adjusted_image_0003_0003.JPG  123.790098   \n",
      "3      Alstonia scholaris  adjusted_image_0003_0004.JPG  188.154168   \n",
      "4      Alstonia scholaris  adjusted_image_0003_0005.JPG  135.426970   \n",
      "...                   ...                           ...         ...   \n",
      "15395   Terminalia arjuna    zoomed_image_0002_0193.JPG   80.025765   \n",
      "15396   Terminalia arjuna    zoomed_image_0002_0217.JPG   86.074852   \n",
      "15397   Terminalia arjuna    zoomed_image_0002_0218.JPG   77.640875   \n",
      "15398   Terminalia arjuna    zoomed_image_0002_0219.JPG   89.022061   \n",
      "15399   Terminalia arjuna    zoomed_image_0002_0220.JPG   73.734906   \n",
      "\n",
      "       Dissimilarity  Homogeneity    Energy  Correlation     Area  \\\n",
      "0           6.079416     0.255005  0.091430     0.963891  35421.0   \n",
      "1           7.319266     0.201560  0.051085     0.959364  30172.5   \n",
      "2           6.361927     0.242456  0.078584     0.941808  23751.0   \n",
      "3           8.481963     0.168340  0.034093     0.954106  49611.5   \n",
      "4           6.588165     0.233982  0.076915     0.943567  25925.5   \n",
      "...              ...          ...       ...          ...      ...   \n",
      "15395       5.770480     0.181276  0.032770     0.901173  49729.0   \n",
      "15396       6.097754     0.175750  0.043734     0.894341  49729.0   \n",
      "15397       5.828656     0.178414  0.049093     0.667054  49728.0   \n",
      "15398       5.329276     0.231915  0.060148     0.960497  49729.0   \n",
      "15399       5.538477     0.187584  0.037533     0.966301  49729.0   \n",
      "\n",
      "         Perimeter  Aspect_Ratio  ...  Hu_Moments_6  Hu_Moments_7  \\\n",
      "0      2057.072279           1.0  ...  4.501370e-16 -4.208965e-23   \n",
      "1      2356.250990           1.0  ...  3.357765e-15 -2.228039e-21   \n",
      "2      1917.273289           1.0  ...  1.282769e-14  6.984165e-21   \n",
      "3       973.781744           1.0  ...  1.180207e-15 -4.906218e-21   \n",
      "4      1812.520981           1.0  ...  7.974811e-16  1.736721e-22   \n",
      "...            ...           ...  ...           ...           ...   \n",
      "15395   892.000000           1.0  ... -5.665143e-15  1.685901e-21   \n",
      "15396   892.000000           1.0  ...  1.697744e-16  1.533993e-22   \n",
      "15397   892.828427           1.0  ... -1.281269e-16 -2.377727e-23   \n",
      "15398   892.000000           1.0  ... -3.832027e-17 -4.498734e-25   \n",
      "15399   892.000000           1.0  ... -1.163901e-15 -2.272183e-22   \n",
      "\n",
      "       Gabor_Features_1  Gabor_Features_2  Gabor_Features_3  Gabor_Features_4  \\\n",
      "0             30.247349       2975.952630        176.684251      10188.502922   \n",
      "1             39.155214       4818.221006        193.088847       8842.200851   \n",
      "2             33.784180       4071.398037        180.146305      10473.444017   \n",
      "3             47.252412       5990.267184        200.212651       8236.259586   \n",
      "4             34.793068       4161.839334        175.487364      10603.702288   \n",
      "...                 ...               ...               ...               ...   \n",
      "15395         25.546935       1783.265017        226.881138       2718.030116   \n",
      "15396         34.709941       3061.813107        253.601642        287.518487   \n",
      "15397         30.470145       2556.649898        253.769671        225.758033   \n",
      "15398         31.319157       2789.397860        247.087552       1867.829807   \n",
      "15399         31.777463       2741.448883        246.205397       2013.766446   \n",
      "\n",
      "       Gabor_Features_5  Gabor_Features_6  Gabor_Features_7  Gabor_Features_8  \n",
      "0             38.336177       4645.948130        166.506497      11170.573499  \n",
      "1             44.017239       5800.241073        199.048011       8147.671623  \n",
      "2             37.826291       4649.682995        188.403041       9285.828011  \n",
      "3             47.531031       6071.366982        207.217195       7091.835360  \n",
      "4             39.598274       5095.307426        183.074498       9817.467784  \n",
      "...                 ...               ...               ...               ...  \n",
      "15395         26.531170       2494.025416        228.075315       2350.161320  \n",
      "15396         30.919264       2909.776266        248.997190       1347.325148  \n",
      "15397         26.821867       1977.566961        251.648876        740.877908  \n",
      "15398         39.072007       4832.525447        253.062620        436.738505  \n",
      "15399         40.669105       5198.491294        253.104931        380.890317  \n",
      "\n",
      "[15400 rows x 840 columns]>\n"
     ]
    }
   ],
   "source": [
    "print(df.head)"
   ]
  },
  {
   "cell_type": "code",
   "execution_count": 5,
   "id": "d0a8c59f-1d45-4f77-90dc-17864f39028a",
   "metadata": {},
   "outputs": [],
   "source": [
    "# Save the DataFrame to a CSV file\n",
    "output_dir=r\"C:\\Users\\User\\Desktop\\project\\handcrafted_features\"\n",
    "df.to_csv(os.path.join(output_dir, 'extracted.csv'), index=False)\n",
    "\n"
   ]
  },
  {
   "cell_type": "code",
   "execution_count": 10,
   "id": "3be14b16-2011-4078-bdf2-021613b1a4b1",
   "metadata": {},
   "outputs": [
    {
     "data": {
      "text/plain": [
       "Class               0\n",
       "Filename            0\n",
       "Contrast            0\n",
       "Dissimilarity       0\n",
       "Homogeneity         0\n",
       "                   ..\n",
       "Gabor_Features_4    0\n",
       "Gabor_Features_5    0\n",
       "Gabor_Features_6    0\n",
       "Gabor_Features_7    0\n",
       "Gabor_Features_8    0\n",
       "Length: 840, dtype: int64"
      ]
     },
     "execution_count": 10,
     "metadata": {},
     "output_type": "execute_result"
    }
   ],
   "source": [
    "df.isnull().sum()"
   ]
  },
  {
   "cell_type": "code",
   "execution_count": null,
   "id": "e78c8b14-1ac2-47e8-af2f-2c634abe13e4",
   "metadata": {},
   "outputs": [],
   "source": []
  }
 ],
 "metadata": {
  "kernelspec": {
   "display_name": "Python 3 (ipykernel)",
   "language": "python",
   "name": "python3"
  },
  "language_info": {
   "codemirror_mode": {
    "name": "ipython",
    "version": 3
   },
   "file_extension": ".py",
   "mimetype": "text/x-python",
   "name": "python",
   "nbconvert_exporter": "python",
   "pygments_lexer": "ipython3",
   "version": "3.11.7"
  }
 },
 "nbformat": 4,
 "nbformat_minor": 5
}
