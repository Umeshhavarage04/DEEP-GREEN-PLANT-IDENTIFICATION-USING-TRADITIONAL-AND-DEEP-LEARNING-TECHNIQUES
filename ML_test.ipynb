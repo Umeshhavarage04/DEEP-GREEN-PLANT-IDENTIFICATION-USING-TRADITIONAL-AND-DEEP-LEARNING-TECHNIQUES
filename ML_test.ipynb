{
 "cells": [
  {
   "cell_type": "code",
   "execution_count": 1,
   "id": "3f23e877-a19a-4e28-b768-afb5c5ead22a",
   "metadata": {},
   "outputs": [],
   "source": [
    "import os\n",
    "import cv2\n",
    "import numpy as np\n",
    "import pandas as pd\n",
    "import joblib  # Used for loading the trained model\n",
    "import json \n",
    "from scipy.stats import moment\n",
    "from skimage.feature import local_binary_pattern\n",
    "from skimage.feature import graycomatrix as graycomatrix, graycoprops as graycoprops\n",
    "from skimage import measure\n",
    "import mahotas\n",
    "import ast\n"
   ]
  },
  {
   "cell_type": "code",
   "execution_count": 2,
   "id": "4773b05f-7686-437b-9335-872094b686be",
   "metadata": {},
   "outputs": [],
   "source": [
    "# Function to normalize an image\n",
    "def normalize_image(image):\n",
    "    return cv2.normalize(image, None, alpha=0, beta=255, norm_type=cv2.NORM_MINMAX, dtype=cv2.CV_8U)\n"
   ]
  },
  {
   "cell_type": "code",
   "execution_count": 3,
   "id": "740fa856-e965-4e2e-98de-e80f4d38d446",
   "metadata": {},
   "outputs": [],
   "source": [
    "# Function to resize an image\n",
    "def resize_image(image, size):\n",
    "    return cv2.resize(image, size)\n"
   ]
  },
  {
   "cell_type": "code",
   "execution_count": 4,
   "id": "37c58c33-e3c4-450f-b95d-382da7c49b86",
   "metadata": {},
   "outputs": [],
   "source": [
    "# Function to extract color moments\n",
    "def extract_color_moments(image):\n",
    "    moments_r = moment(image[:, :, 0].ravel(), moment=[1, 2, 3])\n",
    "    moments_g = moment(image[:, :, 1].ravel(), moment=[1, 2, 3])\n",
    "    moments_b = moment(image[:, :, 2].ravel(), moment=[1, 2, 3])\n",
    "    return moments_r, moments_g, moments_b\n"
   ]
  },
  {
   "cell_type": "code",
   "execution_count": 5,
   "id": "56038906-ab05-49af-8491-770c5fdd320d",
   "metadata": {},
   "outputs": [],
   "source": [
    "# Function to extract Haralick texture features\n",
    "def extract_haralick_features(gray_image):\n",
    "    glcm = graycomatrix(gray_image, [1], [0], 256, symmetric=True, normed=True)\n",
    "    contrast = graycoprops(glcm, 'contrast')[0, 0]\n",
    "    correlation = graycoprops(glcm, 'correlation')[0, 0]\n",
    "    entropy = graycoprops(glcm, 'ASM')[0, 0]\n",
    "    return contrast, correlation, entropy\n"
   ]
  },
  {
   "cell_type": "code",
   "execution_count": 6,
   "id": "95a0400f-8116-496e-b881-edece0cb5503",
   "metadata": {},
   "outputs": [],
   "source": [
    "# Function to extract LBP features\n",
    "def extract_lbp_features(gray_image):\n",
    "    lbp = local_binary_pattern(gray_image, 8, 1, method='uniform')\n",
    "    (hist, _) = np.histogram(lbp.ravel(), bins=np.arange(0, 10), range=(0, 9))\n",
    "    return hist\n"
   ]
  },
  {
   "cell_type": "code",
   "execution_count": 7,
   "id": "60163997-cbb9-47e0-94af-2d7923c91459",
   "metadata": {},
   "outputs": [],
   "source": [
    "# Function to extract Zernike moments\n",
    "def extract_zernike_moments(gray_image):\n",
    "    return mahotas.features.zernike_moments(gray_image, radius=10, degree=8)\n"
   ]
  },
  {
   "cell_type": "code",
   "execution_count": 8,
   "id": "3a24a277-94e0-4fb8-91b3-6576598d4b68",
   "metadata": {},
   "outputs": [],
   "source": [
    "# Function to extract Hu moments\n",
    "def extract_hu_moments(gray_image):\n",
    "    return cv2.HuMoments(cv2.moments(gray_image)).flatten()\n"
   ]
  },
  {
   "cell_type": "code",
   "execution_count": 9,
   "id": "63abb945-4de5-4940-b544-dbefe5573afb",
   "metadata": {},
   "outputs": [],
   "source": [
    "# Function to apply Gabor filters and extract features\n",
    "def apply_gabor_filters(gray_image):\n",
    "    gabor_features = []\n",
    "    for theta in range(4):\n",
    "        theta = theta / 4. * np.pi\n",
    "        kernel = cv2.getGaborKernel((21, 21), 5.0, theta, 10.0, 0.5, 0, ktype=cv2.CV_32F)\n",
    "        fimg = cv2.filter2D(gray_image, cv2.CV_8UC3, kernel)\n",
    "        gabor_features.append(fimg.mean())\n",
    "        gabor_features.append(fimg.var())\n",
    "    return gabor_features\n"
   ]
  },
  {
   "cell_type": "code",
   "execution_count": 10,
   "id": "a6d34081-a95d-46a6-a756-0b41bedef7ef",
   "metadata": {},
   "outputs": [],
   "source": [
    "# Function to extract contour-based features\n",
    "def extract_contour_features(binary_image, gray_image):\n",
    "    contours, _ = cv2.findContours(binary_image, cv2.RETR_EXTERNAL, cv2.CHAIN_APPROX_SIMPLE)\n",
    "    largest_contour = max(contours, key=cv2.contourArea) if contours else None\n",
    "    if largest_contour is None:\n",
    "        return None\n",
    "    area = cv2.contourArea(largest_contour)\n",
    "    perimeter = cv2.arcLength(largest_contour, True)\n",
    "    x, y, w, h = cv2.boundingRect(largest_contour)\n",
    "    aspect_ratio = float(w) / h\n",
    "    contour_image = np.zeros_like(gray_image)\n",
    "    cv2.drawContours(contour_image, [largest_contour], -1, (255), thickness=cv2.FILLED)\n",
    "    eccentricity = measure.regionprops(measure.label(contour_image))[0].eccentricity\n",
    "    hull = cv2.convexHull(largest_contour)\n",
    "    hull_area = cv2.contourArea(hull)\n",
    "    hull_perimeter = cv2.arcLength(hull, True)\n",
    "    solidity = area / hull_area\n",
    "    return area, perimeter, aspect_ratio, eccentricity, hull_area, hull_perimeter, solidity\n"
   ]
  },
  {
   "cell_type": "code",
   "execution_count": 11,
   "id": "f787c80c-a2ec-4a25-b3db-5823f3fd2934",
   "metadata": {},
   "outputs": [],
   "source": [
    "# Function to process a single image and extract features\n",
    "def process_single_image(image_path, input_size):\n",
    "    image = cv2.imread(image_path)\n",
    "    \n",
    "    # Normalize and resize the image\n",
    "    normalized_image = normalize_image(image)\n",
    "    resized_image = resize_image(normalized_image, input_size)\n",
    "\n",
    "    # Convert the resized image to grayscale\n",
    "    gray_image = cv2.cvtColor(resized_image, cv2.COLOR_BGR2GRAY)\n",
    "    \n",
    "    # Extract features\n",
    "    moments_r, moments_g, moments_b = extract_color_moments(image)\n",
    "    contrast, correlation, entropy = extract_haralick_features(gray_image)\n",
    "    lbp_features = extract_lbp_features(gray_image)\n",
    "    zernike_moments = extract_zernike_moments(gray_image)\n",
    "    hu_moments = extract_hu_moments(gray_image)\n",
    "    gabor_features = apply_gabor_filters(gray_image)\n",
    "\n",
    "    # Extract HSV histograms\n",
    "    hsv_image = cv2.cvtColor(resized_image, cv2.COLOR_BGR2HSV)\n",
    "    hist_h = cv2.calcHist([hsv_image], [0], None, [256], [0, 256]).flatten()\n",
    "    hist_s = cv2.calcHist([hsv_image], [1], None, [256], [0, 256]).flatten()\n",
    "    hist_v = cv2.calcHist([hsv_image], [2], None, [256], [0, 256]).flatten()\n",
    "\n",
    "    # Extract GLCM properties\n",
    "    glcm = graycomatrix(gray_image, [1], [0, np.pi/4, np.pi/2, 3*np.pi/4], levels=256, symmetric=True, normed=True)\n",
    "    glcm_props = [graycoprops(glcm, prop).ravel()[0] for prop in ['contrast', 'dissimilarity', 'homogeneity', 'energy', 'correlation']]\n",
    "\n",
    "    # Extract contour-based features\n",
    "    binary_image = cv2.threshold(gray_image, 0, 255, cv2.THRESH_BINARY_INV + cv2.THRESH_OTSU)[1]\n",
    "    contour_features = extract_contour_features(binary_image, gray_image)\n",
    "    \n",
    "    if contour_features is not None:\n",
    "        area, perimeter, aspect_ratio, eccentricity, hull_area, hull_perimeter, solidity = contour_features\n",
    "        features = {\n",
    "                    'Contrast': contrast, 'Dissimilarity': glcm_props[1], 'Homogeneity': glcm_props[2], 'Energy': glcm_props[3],\n",
    "                    'Correlation': glcm_props[4],'Area': area, 'Perimeter': perimeter,'Aspect_Ratio': aspect_ratio, \n",
    "                    'Eccentricity': eccentricity, 'Hull_Area': hull_area, 'Hull_Perimeter': hull_perimeter, 'Solidity': solidity,\n",
    "                    'Hue_Histogram': hist_h.tolist(), 'Saturation_Histogram': hist_s.tolist(), 'Value_Histogram': hist_v.tolist(),\n",
    "                    'Moments_R': moments_r.tolist(), 'Moments_G': moments_g.tolist(), 'Moments_B': moments_b.tolist(),\n",
    "                    'LBP_Features': lbp_features.tolist(),'Zernike_Moments': zernike_moments.tolist(), 'Hu_Moments': hu_moments.tolist(),\n",
    "                    'Gabor_Features': gabor_features\n",
    "                }\n",
    "        \n",
    "        return features\n",
    "    \n",
    "        return None\n"
   ]
  },
  {
   "cell_type": "code",
   "execution_count": 12,
   "id": "463db522-a2db-4a52-afac-868d80dff8da",
   "metadata": {},
   "outputs": [],
   "source": [
    "# Function to process list columns to match training data format\n",
    "def process_list_column(features):\n",
    "    processed_features = {}\n",
    "    for col, values in features.items():\n",
    "        if isinstance(values, list):\n",
    "            for i, value in enumerate(values):\n",
    "                processed_features[f\"{col}_{i+1}\"] = value\n",
    "        else:\n",
    "            processed_features[col] = values\n",
    "    return processed_features\n",
    "\n"
   ]
  },
  {
   "cell_type": "code",
   "execution_count": 13,
   "id": "5ec42b41-d3fd-4915-80a8-0f2ec884d7fb",
   "metadata": {},
   "outputs": [],
   "source": [
    "# Load the trained logistic regression model\n",
    "model = joblib.load(r\"C:\\Users\\havar\\Downloads\\Project\\ML_model_output\\DecisionTreeClassifier_model.pkl\")\n",
    "\n",
    "# Path to the single image to test\n",
    "image_path = r\"C:\\Users\\havar\\Downloads\\Project\\Leaf Images Database\\Terminalia arjuna\\0002_0187.JPG\"\n",
    "input_size = (224, 224)  \n",
    "\n"
   ]
  },
  {
   "cell_type": "code",
   "execution_count": 14,
   "id": "2a26fab7-75fd-4f92-80a9-aa61ad14971e",
   "metadata": {},
   "outputs": [
    {
     "name": "stdout",
     "output_type": "stream",
     "text": [
      "Predicted Class: Citrus aurantiifolia\n"
     ]
    }
   ],
   "source": [
    "features = process_single_image(image_path, input_size)\n",
    "if features:\n",
    "    processed_features = process_list_column(features)\n",
    "    \n",
    "    # Convert to DataFrame and match the order of columns used during training\n",
    "    feature_df = pd.DataFrame([processed_features])\n",
    "    training_columns = pd.read_csv(r\"C:\\Users\\havar\\Downloads\\Project\\handcrafted_features\\extracted.csv\")\n",
    "   # Remove extra whitespaces\n",
    "    training_columns.columns = training_columns.columns.str.strip()\n",
    "    \n",
    "    # Drop 'Class' and 'Filename' columns\n",
    "    training_columns = training_columns.drop(['Class', 'Filename'], axis=1, errors='ignore')\n",
    "    \n",
    "    # Reindex feature_df based on training_columns\n",
    "    feature_df = feature_df.reindex(columns=training_columns.columns, fill_value=0)\n",
    "    # Remove feature names from the DataFrame\n",
    "    feature_df.columns = range(feature_df.shape[1])\n",
    "    \n",
    "    # Make predictions\n",
    "    prediction = model.predict(feature_df)\n",
    "    print(f'Predicted Class: {prediction[0]}')\n",
    "    \n",
    "else:\n",
    "    print('No valid contour found in the image.')\n"
   ]
  },
  {
   "cell_type": "code",
   "execution_count": null,
   "id": "38de1180-6737-4da5-83fe-3f1b5e1bab0a",
   "metadata": {},
   "outputs": [],
   "source": []
  },
  {
   "cell_type": "code",
   "execution_count": null,
   "id": "a5dd344a-525e-43e8-82c5-f82ea670eac3",
   "metadata": {},
   "outputs": [],
   "source": []
  },
  {
   "cell_type": "code",
   "execution_count": null,
   "id": "88a8dce5-3056-4a3b-8c5c-42f6f89ed6ab",
   "metadata": {},
   "outputs": [],
   "source": []
  }
 ],
 "metadata": {
  "kernelspec": {
   "display_name": "Python 3 (ipykernel)",
   "language": "python",
   "name": "python3"
  },
  "language_info": {
   "codemirror_mode": {
    "name": "ipython",
    "version": 3
   },
   "file_extension": ".py",
   "mimetype": "text/x-python",
   "name": "python",
   "nbconvert_exporter": "python",
   "pygments_lexer": "ipython3",
   "version": "3.11.7"
  }
 },
 "nbformat": 4,
 "nbformat_minor": 5
}
